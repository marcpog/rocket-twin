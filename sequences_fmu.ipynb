{
 "cells": [
  {
   "cell_type": "code",
   "execution_count": 1,
   "id": "4219335f-d4f0-4c0e-9a02-e37eaca2b6ef",
   "metadata": {},
   "outputs": [],
   "source": [
    "from rocket_twin.systems import Station, Ground\n",
    "from rocket_twin.utils import run_sequences"
   ]
  },
  {
   "cell_type": "code",
   "execution_count": 12,
   "id": "e5c97d96-5e92-4858-952c-2d278657cc13",
   "metadata": {},
   "outputs": [
    {
     "name": "stderr",
     "output_type": "stream",
     "text": [
      "Connector source 'controller.outwards.w_out_t' is dimensionless, but target 'g_tank.inwards.w_out_temp' has physical unit kg/s.\n",
      "Connector source 'controller.outwards.w_out_r' is dimensionless, but target 'rocket.inwards.w_out_temp' has physical unit kg/s.\n",
      "Connector source 'controller.outwards.w_out_r' is dimensionless, but target 'rocket.inwards.w_out_temp' has physical unit kg/s.\n"
     ]
    }
   ],
   "source": [
    "#System creation\n",
    "\n",
    "sys = Station('sys')"
   ]
  },
  {
   "cell_type": "code",
   "execution_count": 13,
   "id": "99e31669-6962-4c5c-9a4c-b711d48af2e1",
   "metadata": {},
   "outputs": [
    {
     "data": {
      "text/markdown": [
       "`sys.g_tank.inwards`: ExtensiblePort\n",
       "<div class='cosapp-port-table' style='margin-left: 25px; margin-top: -12px'><style type='text/css'>.cosapp-port-table >table >thead{display: none}.cosapp-port-table tbody tr{background: rgba(255, 255, 255, 0)!important}.cosapp-port-table tbody tr:hover{background: #e1f5fe!important}.cosapp-port-table >table {margin-left: unset; margin-right: unset}</style>\n",
       "\n",
       "|  |  |\n",
       "---|---\n",
       "  **weight_s** &#128274;&#128274; : 1 kg | Structure weight\n",
       "  **weight_max** &#128274;&#128274; : 10 kg | Maximum fuel capacity\n",
       "  **w_in** &#128274;&#128274; : 0 kg/s | Fuel income rate\n",
       "  **w_out_temp** &#128274;&#128274; : 0 kg/s | Fuel output rate\n",
       "  **weight_p** &#128274;&#128274; : 0 | Propellant weight\n",
       "</div>\n"
      ],
      "text/plain": [
       "ExtensiblePort: {'weight_s': 1.0, 'weight_max': 10.0, 'w_in': 0.0, 'w_out_temp': 0.0, 'weight_p': 0.0}"
      ]
     },
     "execution_count": 13,
     "metadata": {},
     "output_type": "execute_result"
    }
   ],
   "source": [
    "#Check ground tank values\n",
    "\n",
    "sys.g_tank.inwards"
   ]
  },
  {
   "cell_type": "code",
   "execution_count": 14,
   "id": "fe1dd35f-3cf3-4558-b960-eaf020049955",
   "metadata": {},
   "outputs": [
    {
     "name": "stdout",
     "output_type": "stream",
     "text": [
      "sequence  start\n"
     ]
    }
   ],
   "source": [
    "#Run initial sequence (loads initial values for ground tank)\n",
    "\n",
    "s1 = [{'name' : 'start', 'design_method' : ['start'], 'type' : 'static'}]\n",
    "run_sequences(sys, s1)"
   ]
  },
  {
   "cell_type": "code",
   "execution_count": 15,
   "id": "b641a326-85f0-4793-87c4-6f62e2eab143",
   "metadata": {},
   "outputs": [
    {
     "data": {
      "text/markdown": [
       "`sys.g_tank.inwards`: ExtensiblePort\n",
       "<div class='cosapp-port-table' style='margin-left: 25px; margin-top: -12px'><style type='text/css'>.cosapp-port-table >table >thead{display: none}.cosapp-port-table tbody tr{background: rgba(255, 255, 255, 0)!important}.cosapp-port-table tbody tr:hover{background: #e1f5fe!important}.cosapp-port-table >table {margin-left: unset; margin-right: unset}</style>\n",
       "\n",
       "|  |  |\n",
       "---|---\n",
       "  **weight_s** &#128274;&#128274; : 1 kg | Structure weight\n",
       "  **weight_max** &#128274;&#128274; : 10 kg | Maximum fuel capacity\n",
       "  **w_in** &#128274;&#128274; : 0 kg/s | Fuel income rate\n",
       "  **w_out_temp** &#128274;&#128274; : 0 kg/s | Fuel output rate\n",
       "  **weight_p** &#128274;&#128274; : 10 | Propellant weight\n",
       "</div>\n"
      ],
      "text/plain": [
       "ExtensiblePort: {'weight_s': 1.0, 'weight_max': 10.0, 'w_in': 0.0, 'w_out_temp': 0.0, 'weight_p': 10.0}"
      ]
     },
     "execution_count": 15,
     "metadata": {},
     "output_type": "execute_result"
    }
   ],
   "source": [
    "#Checks ground tank values after initialising the correct values\n",
    "\n",
    "sys.g_tank.inwards"
   ]
  },
  {
   "cell_type": "code",
   "execution_count": 16,
   "id": "eb1f6608-72cd-4274-92b8-477df55d594f",
   "metadata": {},
   "outputs": [
    {
     "data": {
      "text/markdown": [
       "`sys.rocket.tank.inwards`: ExtensiblePort\n",
       "<div class='cosapp-port-table' style='margin-left: 25px; margin-top: -12px'><style type='text/css'>.cosapp-port-table >table >thead{display: none}.cosapp-port-table tbody tr{background: rgba(255, 255, 255, 0)!important}.cosapp-port-table tbody tr:hover{background: #e1f5fe!important}.cosapp-port-table >table {margin-left: unset; margin-right: unset}</style>\n",
       "\n",
       "|  |  |\n",
       "---|---\n",
       "  **weight_s** &#128274;&#128274; : 1 kg | Structure weight\n",
       "  **weight_max** &#128274;&#128274; : 5 kg | Maximum fuel capacity\n",
       "  **w_in** &#128274;&#128274; : 0 kg/s | Fuel income rate\n",
       "  **w_out_temp** &#128274;&#128274; : 0 kg/s | Fuel output rate\n",
       "  **weight_p** &#128274;&#128274; : 0 | Propellant weight\n",
       "</div>\n"
      ],
      "text/plain": [
       "ExtensiblePort: {'weight_s': 1.0, 'weight_max': 5.0, 'w_in': 0.0, 'w_out_temp': 0.0, 'weight_p': 0.0}"
      ]
     },
     "execution_count": 16,
     "metadata": {},
     "output_type": "execute_result"
    }
   ],
   "source": [
    "#Checks rocket tank values before fuel sequence\n",
    "\n",
    "sys.rocket.tank.inwards"
   ]
  },
  {
   "cell_type": "code",
   "execution_count": 17,
   "id": "be1933e8-6339-4e96-9e21-0e8f2f18fe0d",
   "metadata": {},
   "outputs": [
    {
     "data": {
      "text/markdown": [
       "`sys.rocket.dyn.inwards`: ExtensiblePort\n",
       "<div class='cosapp-port-table' style='margin-left: 25px; margin-top: -12px'><style type='text/css'>.cosapp-port-table >table >thead{display: none}.cosapp-port-table tbody tr{background: rgba(255, 255, 255, 0)!important}.cosapp-port-table tbody tr:hover{background: #e1f5fe!important}.cosapp-port-table >table {margin-left: unset; margin-right: unset}</style>\n",
       "\n",
       "|  |  |\n",
       "---|---\n",
       "  **switch** &#128274;&#128274; : 0 | Whether rocket is on or off\n",
       "  **g** &#128274;&#128274; : -10 m/s**2 | Gravity\n",
       "  **weight_eng** &#128274;&#128274; : 1 kg | Weight called weight_eng\n",
       "  **weight_tank** &#128274;&#128274; : 1 kg | Weight called weight_tank\n",
       "  **thrust** &#128274;&#128274; : 100 N | Force called thrust\n",
       "</div>\n"
      ],
      "text/plain": [
       "ExtensiblePort: {'switch': 0.0, 'g': -10.0, 'weight_eng': 1.0, 'weight_tank': 1.0, 'thrust': 100.0}"
      ]
     },
     "execution_count": 17,
     "metadata": {},
     "output_type": "execute_result"
    }
   ],
   "source": [
    "#Checks if rocket is off\n",
    "\n",
    "sys.rocket.dyn.inwards"
   ]
  },
  {
   "cell_type": "code",
   "execution_count": 18,
   "id": "1f6a7f49-3e41-458d-9790-1aaf59d657aa",
   "metadata": {},
   "outputs": [
    {
     "ename": "ValueError",
     "evalue": "ctypes objects containing pointers cannot be pickled",
     "output_type": "error",
     "traceback": [
      "\u001b[1;31m---------------------------------------------------------------------------\u001b[0m",
      "\u001b[1;31mValueError\u001b[0m                                Traceback (most recent call last)",
      "Cell \u001b[1;32mIn[18], line 17\u001b[0m\n\u001b[0;32m     11\u001b[0m time_driver\u001b[38;5;241m.\u001b[39mset_scenario(\n\u001b[0;32m     12\u001b[0m     init \u001b[38;5;241m=\u001b[39m {\u001b[38;5;124m'\u001b[39m\u001b[38;5;124mcontroller.phase\u001b[39m\u001b[38;5;124m'\u001b[39m : \u001b[38;5;241m1\u001b[39m},\n\u001b[0;32m     13\u001b[0m )\n\u001b[0;32m     15\u001b[0m rec \u001b[38;5;241m=\u001b[39m time_driver\u001b[38;5;241m.\u001b[39madd_recorder(DataFrameRecorder(includes\u001b[38;5;241m=\u001b[39m[\u001b[38;5;124m'\u001b[39m\u001b[38;5;124m*\u001b[39m\u001b[38;5;124m'\u001b[39m]))\n\u001b[1;32m---> 17\u001b[0m \u001b[43msys\u001b[49m\u001b[38;5;241;43m.\u001b[39;49m\u001b[43mrun_drivers\u001b[49m\u001b[43m(\u001b[49m\u001b[43m)\u001b[49m\n",
      "File \u001b[1;32m~\\micromambaenv\\envs\\rocket_twin\\Lib\\site-packages\\cosapp\\systems\\system.py:2125\u001b[0m, in \u001b[0;36mSystem.run_drivers\u001b[1;34m(self)\u001b[0m\n\u001b[0;32m   2123\u001b[0m     \u001b[38;5;28;01mfor\u001b[39;00m driver \u001b[38;5;129;01min\u001b[39;00m \u001b[38;5;28mself\u001b[39m\u001b[38;5;241m.\u001b[39mdrivers\u001b[38;5;241m.\u001b[39mvalues():\n\u001b[0;32m   2124\u001b[0m         logger\u001b[38;5;241m.\u001b[39mdebug(\u001b[38;5;124mf\u001b[39m\u001b[38;5;124m\"\u001b[39m\u001b[38;5;124mCall driver \u001b[39m\u001b[38;5;132;01m{\u001b[39;00mdriver\u001b[38;5;241m.\u001b[39mname\u001b[38;5;132;01m}\u001b[39;00m\u001b[38;5;124m.run_once on \u001b[39m\u001b[38;5;132;01m{\u001b[39;00m\u001b[38;5;28mself\u001b[39m\u001b[38;5;241m.\u001b[39mname\u001b[38;5;132;01m}\u001b[39;00m\u001b[38;5;124m\"\u001b[39m)\n\u001b[1;32m-> 2125\u001b[0m         \u001b[43mdriver\u001b[49m\u001b[38;5;241;43m.\u001b[39;49m\u001b[43mrun_once\u001b[49m\u001b[43m(\u001b[49m\u001b[43m)\u001b[49m\n\u001b[0;32m   2126\u001b[0m \u001b[38;5;28;01melse\u001b[39;00m:\n\u001b[0;32m   2127\u001b[0m     \u001b[38;5;28mself\u001b[39m\u001b[38;5;241m.\u001b[39mrun_children_drivers()\n",
      "File \u001b[1;32m~\\micromambaenv\\envs\\rocket_twin\\Lib\\site-packages\\cosapp\\drivers\\time\\interfaces.py:217\u001b[0m, in \u001b[0;36mExplicitTimeDriver.run_once\u001b[1;34m(self)\u001b[0m\n\u001b[0;32m    215\u001b[0m logger\u001b[38;5;241m.\u001b[39mdebug(\u001b[38;5;124mf\u001b[39m\u001b[38;5;124m\"\u001b[39m\u001b[38;5;124mCall \u001b[39m\u001b[38;5;132;01m{\u001b[39;00m\u001b[38;5;28mself\u001b[39m\u001b[38;5;241m.\u001b[39mname\u001b[38;5;132;01m}\u001b[39;00m\u001b[38;5;124m.compute\u001b[39m\u001b[38;5;124m\"\u001b[39m)\n\u001b[0;32m    216\u001b[0m \u001b[38;5;28mself\u001b[39m\u001b[38;5;241m.\u001b[39m_compute_calls \u001b[38;5;241m+\u001b[39m\u001b[38;5;241m=\u001b[39m \u001b[38;5;241m1\u001b[39m\n\u001b[1;32m--> 217\u001b[0m \u001b[38;5;28;43mself\u001b[39;49m\u001b[38;5;241;43m.\u001b[39;49m\u001b[43mcompute\u001b[49m\u001b[43m(\u001b[49m\u001b[43m)\u001b[49m\n\u001b[0;32m    219\u001b[0m \u001b[38;5;28mself\u001b[39m\u001b[38;5;241m.\u001b[39m_postcompute()\n\u001b[0;32m    220\u001b[0m \u001b[38;5;28mself\u001b[39m\u001b[38;5;241m.\u001b[39mcomputed\u001b[38;5;241m.\u001b[39memit()\n",
      "File \u001b[1;32m~\\micromambaenv\\envs\\rocket_twin\\Lib\\site-packages\\cosapp\\drivers\\time\\interfaces.py:367\u001b[0m, in \u001b[0;36mExplicitTimeDriver.compute\u001b[1;34m(self)\u001b[0m\n\u001b[0;32m    365\u001b[0m \u001b[38;5;28;01mwhile\u001b[39;00m \u001b[38;5;129;01mnot\u001b[39;00m stopped:  \u001b[38;5;66;03m# time loop\u001b[39;00m\n\u001b[0;32m    366\u001b[0m     \u001b[38;5;28;01mif\u001b[39;00m record_all:\n\u001b[1;32m--> 367\u001b[0m         \u001b[43mrecord_data\u001b[49m\u001b[43m(\u001b[49m\u001b[43m)\u001b[49m\n\u001b[0;32m    368\u001b[0m     \u001b[38;5;28;01melif\u001b[39;00m must_record(t, t_record):\n\u001b[0;32m    369\u001b[0m         record_data()\n",
      "File \u001b[1;32m~\\micromambaenv\\envs\\rocket_twin\\Lib\\site-packages\\cosapp\\drivers\\time\\interfaces.py:253\u001b[0m, in \u001b[0;36mExplicitTimeDriver.compute.<locals>.record_data\u001b[1;34m(stamp)\u001b[0m\n\u001b[0;32m    251\u001b[0m \u001b[38;5;28;01mif\u001b[39;00m stamp \u001b[38;5;129;01mis\u001b[39;00m \u001b[38;5;28;01mNone\u001b[39;00m:\n\u001b[0;32m    252\u001b[0m     stamp \u001b[38;5;241m=\u001b[39m \u001b[38;5;124mf\u001b[39m\u001b[38;5;124m\"\u001b[39m\u001b[38;5;124mt=\u001b[39m\u001b[38;5;132;01m{\u001b[39;00m\u001b[38;5;28mfloat\u001b[39m(\u001b[38;5;28mself\u001b[39m\u001b[38;5;241m.\u001b[39mtime)\u001b[38;5;132;01m:\u001b[39;00m\u001b[38;5;124m.14\u001b[39m\u001b[38;5;132;01m}\u001b[39;00m\u001b[38;5;124m\"\u001b[39m\n\u001b[1;32m--> 253\u001b[0m \u001b[43mrecorder\u001b[49m\u001b[38;5;241;43m.\u001b[39;49m\u001b[43mrecord_state\u001b[49m\u001b[43m(\u001b[49m\u001b[43mstamp\u001b[49m\u001b[43m,\u001b[49m\u001b[43m \u001b[49m\u001b[38;5;28;43mself\u001b[39;49m\u001b[38;5;241;43m.\u001b[39;49m\u001b[43mstatus\u001b[49m\u001b[43m,\u001b[49m\u001b[43m \u001b[49m\u001b[38;5;28;43mself\u001b[39;49m\u001b[38;5;241;43m.\u001b[39;49m\u001b[43merror_code\u001b[49m\u001b[43m)\u001b[49m\n",
      "File \u001b[1;32m~\\micromambaenv\\envs\\rocket_twin\\Lib\\site-packages\\cosapp\\recorders\\recorder.py:321\u001b[0m, in \u001b[0;36mBaseRecorder.record_state\u001b[1;34m(self, time_ref, status, error_code)\u001b[0m\n\u001b[0;32m    318\u001b[0m \u001b[38;5;28;01mif\u001b[39;00m \u001b[38;5;28mself\u001b[39m\u001b[38;5;241m.\u001b[39mpaused:\n\u001b[0;32m    319\u001b[0m     \u001b[38;5;28;01mreturn\u001b[39;00m\n\u001b[1;32m--> 321\u001b[0m line \u001b[38;5;241m=\u001b[39m [\u001b[38;5;28mself\u001b[39m\u001b[38;5;241m.\u001b[39msection, status, error_code, \u001b[38;5;28mstr\u001b[39m(time_ref)] \u001b[38;5;241m+\u001b[39m \u001b[38;5;28;43mself\u001b[39;49m\u001b[38;5;241;43m.\u001b[39;49m\u001b[43mformatted_data\u001b[49m\u001b[43m(\u001b[49m\u001b[43m)\u001b[49m\n\u001b[0;32m    322\u001b[0m \u001b[38;5;28mself\u001b[39m\u001b[38;5;241m.\u001b[39m_record(line)\n\u001b[0;32m    323\u001b[0m \u001b[38;5;28mself\u001b[39m\u001b[38;5;241m.\u001b[39mstate_recorded\u001b[38;5;241m.\u001b[39memit(time_ref\u001b[38;5;241m=\u001b[39mtime_ref, status\u001b[38;5;241m=\u001b[39mstatus, error_code\u001b[38;5;241m=\u001b[39merror_code)\n",
      "File \u001b[1;32m~\\micromambaenv\\envs\\rocket_twin\\Lib\\site-packages\\cosapp\\recorders\\dataframe_recorder.py:110\u001b[0m, in \u001b[0;36mDataFrameRecorder.formatted_data\u001b[1;34m(self)\u001b[0m\n\u001b[0;32m    108\u001b[0m \u001b[38;5;28;01mfor\u001b[39;00m name, value \u001b[38;5;129;01min\u001b[39;00m \u001b[38;5;28mzip\u001b[39m(names, values):\n\u001b[0;32m    109\u001b[0m     \u001b[38;5;28;01mtry\u001b[39;00m:\n\u001b[1;32m--> 110\u001b[0m         line\u001b[38;5;241m.\u001b[39mappend(\u001b[43mcopy\u001b[49m\u001b[38;5;241;43m.\u001b[39;49m\u001b[43mdeepcopy\u001b[49m\u001b[43m(\u001b[49m\u001b[43mvalue\u001b[49m\u001b[43m)\u001b[49m)\n\u001b[0;32m    111\u001b[0m     \u001b[38;5;28;01mexcept\u001b[39;00m copy\u001b[38;5;241m.\u001b[39mError:\n\u001b[0;32m    112\u001b[0m         context \u001b[38;5;241m=\u001b[39m \u001b[38;5;28mself\u001b[39m\u001b[38;5;241m.\u001b[39mwatched_object\n",
      "File \u001b[1;32m~\\micromambaenv\\envs\\rocket_twin\\Lib\\copy.py:172\u001b[0m, in \u001b[0;36mdeepcopy\u001b[1;34m(x, memo, _nil)\u001b[0m\n\u001b[0;32m    170\u001b[0m                 y \u001b[38;5;241m=\u001b[39m x\n\u001b[0;32m    171\u001b[0m             \u001b[38;5;28;01melse\u001b[39;00m:\n\u001b[1;32m--> 172\u001b[0m                 y \u001b[38;5;241m=\u001b[39m \u001b[43m_reconstruct\u001b[49m\u001b[43m(\u001b[49m\u001b[43mx\u001b[49m\u001b[43m,\u001b[49m\u001b[43m \u001b[49m\u001b[43mmemo\u001b[49m\u001b[43m,\u001b[49m\u001b[43m \u001b[49m\u001b[38;5;241;43m*\u001b[39;49m\u001b[43mrv\u001b[49m\u001b[43m)\u001b[49m\n\u001b[0;32m    174\u001b[0m \u001b[38;5;66;03m# If is its own copy, don't memoize.\u001b[39;00m\n\u001b[0;32m    175\u001b[0m \u001b[38;5;28;01mif\u001b[39;00m y \u001b[38;5;129;01mis\u001b[39;00m \u001b[38;5;129;01mnot\u001b[39;00m x:\n",
      "File \u001b[1;32m~\\micromambaenv\\envs\\rocket_twin\\Lib\\copy.py:271\u001b[0m, in \u001b[0;36m_reconstruct\u001b[1;34m(x, memo, func, args, state, listiter, dictiter, deepcopy)\u001b[0m\n\u001b[0;32m    269\u001b[0m \u001b[38;5;28;01mif\u001b[39;00m state \u001b[38;5;129;01mis\u001b[39;00m \u001b[38;5;129;01mnot\u001b[39;00m \u001b[38;5;28;01mNone\u001b[39;00m:\n\u001b[0;32m    270\u001b[0m     \u001b[38;5;28;01mif\u001b[39;00m deep:\n\u001b[1;32m--> 271\u001b[0m         state \u001b[38;5;241m=\u001b[39m \u001b[43mdeepcopy\u001b[49m\u001b[43m(\u001b[49m\u001b[43mstate\u001b[49m\u001b[43m,\u001b[49m\u001b[43m \u001b[49m\u001b[43mmemo\u001b[49m\u001b[43m)\u001b[49m\n\u001b[0;32m    272\u001b[0m     \u001b[38;5;28;01mif\u001b[39;00m \u001b[38;5;28mhasattr\u001b[39m(y, \u001b[38;5;124m'\u001b[39m\u001b[38;5;124m__setstate__\u001b[39m\u001b[38;5;124m'\u001b[39m):\n\u001b[0;32m    273\u001b[0m         y\u001b[38;5;241m.\u001b[39m__setstate__(state)\n",
      "File \u001b[1;32m~\\micromambaenv\\envs\\rocket_twin\\Lib\\copy.py:146\u001b[0m, in \u001b[0;36mdeepcopy\u001b[1;34m(x, memo, _nil)\u001b[0m\n\u001b[0;32m    144\u001b[0m copier \u001b[38;5;241m=\u001b[39m _deepcopy_dispatch\u001b[38;5;241m.\u001b[39mget(\u001b[38;5;28mcls\u001b[39m)\n\u001b[0;32m    145\u001b[0m \u001b[38;5;28;01mif\u001b[39;00m copier \u001b[38;5;129;01mis\u001b[39;00m \u001b[38;5;129;01mnot\u001b[39;00m \u001b[38;5;28;01mNone\u001b[39;00m:\n\u001b[1;32m--> 146\u001b[0m     y \u001b[38;5;241m=\u001b[39m \u001b[43mcopier\u001b[49m\u001b[43m(\u001b[49m\u001b[43mx\u001b[49m\u001b[43m,\u001b[49m\u001b[43m \u001b[49m\u001b[43mmemo\u001b[49m\u001b[43m)\u001b[49m\n\u001b[0;32m    147\u001b[0m \u001b[38;5;28;01melse\u001b[39;00m:\n\u001b[0;32m    148\u001b[0m     \u001b[38;5;28;01mif\u001b[39;00m \u001b[38;5;28missubclass\u001b[39m(\u001b[38;5;28mcls\u001b[39m, \u001b[38;5;28mtype\u001b[39m):\n",
      "File \u001b[1;32m~\\micromambaenv\\envs\\rocket_twin\\Lib\\copy.py:231\u001b[0m, in \u001b[0;36m_deepcopy_dict\u001b[1;34m(x, memo, deepcopy)\u001b[0m\n\u001b[0;32m    229\u001b[0m memo[\u001b[38;5;28mid\u001b[39m(x)] \u001b[38;5;241m=\u001b[39m y\n\u001b[0;32m    230\u001b[0m \u001b[38;5;28;01mfor\u001b[39;00m key, value \u001b[38;5;129;01min\u001b[39;00m x\u001b[38;5;241m.\u001b[39mitems():\n\u001b[1;32m--> 231\u001b[0m     y[deepcopy(key, memo)] \u001b[38;5;241m=\u001b[39m \u001b[43mdeepcopy\u001b[49m\u001b[43m(\u001b[49m\u001b[43mvalue\u001b[49m\u001b[43m,\u001b[49m\u001b[43m \u001b[49m\u001b[43mmemo\u001b[49m\u001b[43m)\u001b[49m\n\u001b[0;32m    232\u001b[0m \u001b[38;5;28;01mreturn\u001b[39;00m y\n",
      "File \u001b[1;32m~\\micromambaenv\\envs\\rocket_twin\\Lib\\copy.py:172\u001b[0m, in \u001b[0;36mdeepcopy\u001b[1;34m(x, memo, _nil)\u001b[0m\n\u001b[0;32m    170\u001b[0m                 y \u001b[38;5;241m=\u001b[39m x\n\u001b[0;32m    171\u001b[0m             \u001b[38;5;28;01melse\u001b[39;00m:\n\u001b[1;32m--> 172\u001b[0m                 y \u001b[38;5;241m=\u001b[39m \u001b[43m_reconstruct\u001b[49m\u001b[43m(\u001b[49m\u001b[43mx\u001b[49m\u001b[43m,\u001b[49m\u001b[43m \u001b[49m\u001b[43mmemo\u001b[49m\u001b[43m,\u001b[49m\u001b[43m \u001b[49m\u001b[38;5;241;43m*\u001b[39;49m\u001b[43mrv\u001b[49m\u001b[43m)\u001b[49m\n\u001b[0;32m    174\u001b[0m \u001b[38;5;66;03m# If is its own copy, don't memoize.\u001b[39;00m\n\u001b[0;32m    175\u001b[0m \u001b[38;5;28;01mif\u001b[39;00m y \u001b[38;5;129;01mis\u001b[39;00m \u001b[38;5;129;01mnot\u001b[39;00m x:\n",
      "File \u001b[1;32m~\\micromambaenv\\envs\\rocket_twin\\Lib\\copy.py:271\u001b[0m, in \u001b[0;36m_reconstruct\u001b[1;34m(x, memo, func, args, state, listiter, dictiter, deepcopy)\u001b[0m\n\u001b[0;32m    269\u001b[0m \u001b[38;5;28;01mif\u001b[39;00m state \u001b[38;5;129;01mis\u001b[39;00m \u001b[38;5;129;01mnot\u001b[39;00m \u001b[38;5;28;01mNone\u001b[39;00m:\n\u001b[0;32m    270\u001b[0m     \u001b[38;5;28;01mif\u001b[39;00m deep:\n\u001b[1;32m--> 271\u001b[0m         state \u001b[38;5;241m=\u001b[39m \u001b[43mdeepcopy\u001b[49m\u001b[43m(\u001b[49m\u001b[43mstate\u001b[49m\u001b[43m,\u001b[49m\u001b[43m \u001b[49m\u001b[43mmemo\u001b[49m\u001b[43m)\u001b[49m\n\u001b[0;32m    272\u001b[0m     \u001b[38;5;28;01mif\u001b[39;00m \u001b[38;5;28mhasattr\u001b[39m(y, \u001b[38;5;124m'\u001b[39m\u001b[38;5;124m__setstate__\u001b[39m\u001b[38;5;124m'\u001b[39m):\n\u001b[0;32m    273\u001b[0m         y\u001b[38;5;241m.\u001b[39m__setstate__(state)\n",
      "File \u001b[1;32m~\\micromambaenv\\envs\\rocket_twin\\Lib\\copy.py:146\u001b[0m, in \u001b[0;36mdeepcopy\u001b[1;34m(x, memo, _nil)\u001b[0m\n\u001b[0;32m    144\u001b[0m copier \u001b[38;5;241m=\u001b[39m _deepcopy_dispatch\u001b[38;5;241m.\u001b[39mget(\u001b[38;5;28mcls\u001b[39m)\n\u001b[0;32m    145\u001b[0m \u001b[38;5;28;01mif\u001b[39;00m copier \u001b[38;5;129;01mis\u001b[39;00m \u001b[38;5;129;01mnot\u001b[39;00m \u001b[38;5;28;01mNone\u001b[39;00m:\n\u001b[1;32m--> 146\u001b[0m     y \u001b[38;5;241m=\u001b[39m \u001b[43mcopier\u001b[49m\u001b[43m(\u001b[49m\u001b[43mx\u001b[49m\u001b[43m,\u001b[49m\u001b[43m \u001b[49m\u001b[43mmemo\u001b[49m\u001b[43m)\u001b[49m\n\u001b[0;32m    147\u001b[0m \u001b[38;5;28;01melse\u001b[39;00m:\n\u001b[0;32m    148\u001b[0m     \u001b[38;5;28;01mif\u001b[39;00m \u001b[38;5;28missubclass\u001b[39m(\u001b[38;5;28mcls\u001b[39m, \u001b[38;5;28mtype\u001b[39m):\n",
      "File \u001b[1;32m~\\micromambaenv\\envs\\rocket_twin\\Lib\\copy.py:231\u001b[0m, in \u001b[0;36m_deepcopy_dict\u001b[1;34m(x, memo, deepcopy)\u001b[0m\n\u001b[0;32m    229\u001b[0m memo[\u001b[38;5;28mid\u001b[39m(x)] \u001b[38;5;241m=\u001b[39m y\n\u001b[0;32m    230\u001b[0m \u001b[38;5;28;01mfor\u001b[39;00m key, value \u001b[38;5;129;01min\u001b[39;00m x\u001b[38;5;241m.\u001b[39mitems():\n\u001b[1;32m--> 231\u001b[0m     y[deepcopy(key, memo)] \u001b[38;5;241m=\u001b[39m \u001b[43mdeepcopy\u001b[49m\u001b[43m(\u001b[49m\u001b[43mvalue\u001b[49m\u001b[43m,\u001b[49m\u001b[43m \u001b[49m\u001b[43mmemo\u001b[49m\u001b[43m)\u001b[49m\n\u001b[0;32m    232\u001b[0m \u001b[38;5;28;01mreturn\u001b[39;00m y\n",
      "File \u001b[1;32m~\\micromambaenv\\envs\\rocket_twin\\Lib\\copy.py:161\u001b[0m, in \u001b[0;36mdeepcopy\u001b[1;34m(x, memo, _nil)\u001b[0m\n\u001b[0;32m    159\u001b[0m reductor \u001b[38;5;241m=\u001b[39m \u001b[38;5;28mgetattr\u001b[39m(x, \u001b[38;5;124m\"\u001b[39m\u001b[38;5;124m__reduce_ex__\u001b[39m\u001b[38;5;124m\"\u001b[39m, \u001b[38;5;28;01mNone\u001b[39;00m)\n\u001b[0;32m    160\u001b[0m \u001b[38;5;28;01mif\u001b[39;00m reductor \u001b[38;5;129;01mis\u001b[39;00m \u001b[38;5;129;01mnot\u001b[39;00m \u001b[38;5;28;01mNone\u001b[39;00m:\n\u001b[1;32m--> 161\u001b[0m     rv \u001b[38;5;241m=\u001b[39m reductor(\u001b[38;5;241m4\u001b[39m)\n\u001b[0;32m    162\u001b[0m \u001b[38;5;28;01melse\u001b[39;00m:\n\u001b[0;32m    163\u001b[0m     reductor \u001b[38;5;241m=\u001b[39m \u001b[38;5;28mgetattr\u001b[39m(x, \u001b[38;5;124m\"\u001b[39m\u001b[38;5;124m__reduce__\u001b[39m\u001b[38;5;124m\"\u001b[39m, \u001b[38;5;28;01mNone\u001b[39;00m)\n",
      "\u001b[1;31mValueError\u001b[0m: ctypes objects containing pointers cannot be pickled"
     ]
    }
   ],
   "source": [
    "from cosapp.drivers import RungeKutta, NonLinearSolver, LinearDoE, EulerExplicit\n",
    "from cosapp.recorders import DataFrameRecorder\n",
    "\n",
    "time_driver = sys.add_driver(EulerExplicit())\n",
    "solver = time_driver.add_child(NonLinearSolver('solver', max_iter=15, eps=1e-5, factor=1.0))\n",
    "\n",
    "time_driver.time_interval = (0, 10)\n",
    "time_driver.dt = 0.1\n",
    "\n",
    "# Define a simulation scenario\n",
    "time_driver.set_scenario(\n",
    "    init = {'controller.phase' : 1},\n",
    ")\n",
    "\n",
    "rec = time_driver.add_recorder(DataFrameRecorder(includes=['*']))\n",
    "\n",
    "sys.run_drivers()"
   ]
  },
  {
   "cell_type": "code",
   "execution_count": 4,
   "id": "959b3150-67ab-42ee-97f6-fdda92b8d79d",
   "metadata": {},
   "outputs": [],
   "source": [
    "station = Station('station')"
   ]
  },
  {
   "cell_type": "code",
   "execution_count": 5,
   "id": "d3fcef3b-d64a-4a67-8297-a0e30820800c",
   "metadata": {},
   "outputs": [
    {
     "data": {
      "text/html": [
       "\n",
       "        <iframe\n",
       "            width=\"810px\"\n",
       "            height=\"650px\"\n",
       "            src=\"station.html\"\n",
       "            frameborder=\"0\"\n",
       "            allowfullscreen\n",
       "            \n",
       "        ></iframe>\n",
       "        "
      ],
      "text/markdown": [
       "\n",
       "### Child components\n",
       "\n",
       "- `controller`: FMUSystem\n",
       "- `pipe`: Pipe\n",
       "- `g_tank`: Tank\n",
       "- `rocket`: Rocket"
      ],
      "text/plain": [
       "station - Station"
      ]
     },
     "execution_count": 5,
     "metadata": {},
     "output_type": "execute_result"
    }
   ],
   "source": [
    "station"
   ]
  },
  {
   "cell_type": "code",
   "execution_count": null,
   "id": "e8dd59fa-ff88-4257-a676-2a24f2a085f6",
   "metadata": {},
   "outputs": [],
   "source": []
  }
 ],
 "metadata": {
  "kernelspec": {
   "display_name": "Python 3 (ipykernel)",
   "language": "python",
   "name": "python3"
  },
  "language_info": {
   "codemirror_mode": {
    "name": "ipython",
    "version": 3
   },
   "file_extension": ".py",
   "mimetype": "text/x-python",
   "name": "python",
   "nbconvert_exporter": "python",
   "pygments_lexer": "ipython3",
   "version": "3.11.3"
  }
 },
 "nbformat": 4,
 "nbformat_minor": 5
}
